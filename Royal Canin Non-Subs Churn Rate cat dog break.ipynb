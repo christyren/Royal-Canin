{
 "cells": [
  {
   "cell_type": "code",
   "execution_count": 372,
   "metadata": {},
   "outputs": [],
   "source": [
    "import pandas as pd\n",
    "import numpy as np\n",
    "import pylab \n",
    "import matplotlib.pyplot as plt\n",
    "from datetime import datetime\n",
    "from datetime import timedelta\n",
    "import os, sys"
   ]
  },
  {
   "cell_type": "markdown",
   "metadata": {},
   "source": [
    "### Instruction\n",
    "Only change the subcategory_name. No Space allowed !!!!!"
   ]
  },
  {
   "cell_type": "code",
   "execution_count": 373,
   "metadata": {},
   "outputs": [],
   "source": [
    "subcategory_name = 'GERIATRICS' "
   ]
  },
  {
   "cell_type": "code",
   "execution_count": 374,
   "metadata": {
    "scrolled": true
   },
   "outputs": [],
   "source": [
    "df_exclude = pd.read_csv(\"../data/Final subscriber/\"+ subcategory_name + \"_sub_final.csv\")"
   ]
  },
  {
   "cell_type": "code",
   "execution_count": 375,
   "metadata": {
    "scrolled": false
   },
   "outputs": [
    {
     "name": "stderr",
     "output_type": "stream",
     "text": [
      "/Users/renmengyuan/anaconda3/lib/python3.7/site-packages/IPython/core/interactiveshell.py:3057: DtypeWarning: Columns (5) have mixed types. Specify dtype option on import or set low_memory=False.\n",
      "  interactivity=interactivity, compiler=compiler, result=result)\n"
     ]
    }
   ],
   "source": [
    "df_sales = pd.read_csv(\"../data/subcategory/\"+ subcategory_name + \".csv\")"
   ]
  },
  {
   "cell_type": "code",
   "execution_count": 376,
   "metadata": {},
   "outputs": [],
   "source": [
    "df_sales = df_sales[~df_sales.address_hash.isin(df_exclude.index)]"
   ]
  },
  {
   "cell_type": "markdown",
   "metadata": {},
   "source": [
    "## Change Subcategory Here"
   ]
  },
  {
   "cell_type": "code",
   "execution_count": 377,
   "metadata": {},
   "outputs": [],
   "source": [
    "# df_sales = df_sales[df_sales['Animal_Species'] == 'DOG']"
   ]
  },
  {
   "cell_type": "code",
   "execution_count": null,
   "metadata": {},
   "outputs": [],
   "source": []
  },
  {
   "cell_type": "code",
   "execution_count": 378,
   "metadata": {},
   "outputs": [],
   "source": [
    "df_sales['date']=pd.to_datetime(df_sales['order_date']).dt.strftime(\"%Y-%m-%d\")"
   ]
  },
  {
   "cell_type": "code",
   "execution_count": 379,
   "metadata": {},
   "outputs": [],
   "source": [
    "df_sales_date = df_sales\n",
    "df_sales_171819 = df_sales_date\n",
    "df_sales_171819 = df_sales_171819.loc[(df_sales_171819['date'] >= '2017-01-01') \\\n",
    "& (df_sales_171819['date']!='2018-12-12')]"
   ]
  },
  {
   "cell_type": "markdown",
   "metadata": {},
   "source": [
    "### Getting individual's number of orders and end purchse date"
   ]
  },
  {
   "cell_type": "code",
   "execution_count": 380,
   "metadata": {},
   "outputs": [],
   "source": [
    "customers_orders = {}\n",
    "customers_start = {}\n",
    "customers_end = {}\n",
    "for index, row in df_sales_171819.iterrows():   \n",
    "    if row['address_hash'] in customers_orders.keys():\n",
    "        if row['date'] != customers_end[row['address_hash']]:\n",
    "            customers_orders[row['address_hash']] += 1 # update the amount of orders\n",
    "            customers_end[row['address_hash']] = row['date'] # update the last order date\n",
    "    else:\n",
    "        customers_orders[row['address_hash']] = 1 \n",
    "        customers_start[row['address_hash']] = row['date'] # record the start order date\n",
    "        customers_end[row['address_hash']] = row['date'] # update the last order date"
   ]
  },
  {
   "cell_type": "code",
   "execution_count": 381,
   "metadata": {},
   "outputs": [],
   "source": [
    "# Transform dictionaries into dataframes and merge them according to keys\n",
    "df_customers_orders = pd.DataFrame(customers_orders.items(), columns=['customer', 'num_orders'])\n",
    "df_customers_start = pd.DataFrame(customers_start.items(), columns=['customer', 'date_start'])\n",
    "df_customers_end = pd.DataFrame(customers_end.items(), columns=['customer', 'date_end'])"
   ]
  },
  {
   "cell_type": "code",
   "execution_count": 382,
   "metadata": {},
   "outputs": [],
   "source": [
    "df_tmp = pd.merge(df_customers_orders, df_customers_start, on='customer', how ='left')"
   ]
  },
  {
   "cell_type": "code",
   "execution_count": 383,
   "metadata": {},
   "outputs": [],
   "source": [
    "df = pd.merge(df_tmp, df_customers_end, on='customer', how ='left')"
   ]
  },
  {
   "cell_type": "code",
   "execution_count": 384,
   "metadata": {},
   "outputs": [],
   "source": [
    "df_start_end_sort = df.sort_values(by=['date_start'])"
   ]
  },
  {
   "cell_type": "code",
   "execution_count": 385,
   "metadata": {},
   "outputs": [],
   "source": [
    "df_start_end_sort.reset_index(inplace = True)"
   ]
  },
  {
   "cell_type": "code",
   "execution_count": 386,
   "metadata": {},
   "outputs": [],
   "source": [
    "def f(x):    \n",
    "    return pd.to_datetime(x['date_end']) \n",
    "df_start_end_sort['date_leave'] = df_start_end_sort.apply(f, axis=1)"
   ]
  },
  {
   "cell_type": "markdown",
   "metadata": {},
   "source": [
    "## Churn Rates"
   ]
  },
  {
   "cell_type": "markdown",
   "metadata": {},
   "source": [
    "**<center>Churn Rate = Customers Left / (New Customers + Existing Customers)</center>** <br/>"
   ]
  },
  {
   "cell_type": "code",
   "execution_count": 387,
   "metadata": {
    "scrolled": true
   },
   "outputs": [
    {
     "name": "stderr",
     "output_type": "stream",
     "text": [
      "/Users/renmengyuan/anaconda3/lib/python3.7/site-packages/pandas/core/indexing.py:362: SettingWithCopyWarning: \n",
      "A value is trying to be set on a copy of a slice from a DataFrame.\n",
      "Try using .loc[row_indexer,col_indexer] = value instead\n",
      "\n",
      "See the caveats in the documentation: http://pandas.pydata.org/pandas-docs/stable/indexing.html#indexing-view-versus-copy\n",
      "  self.obj[key] = _infer_fill_value(value)\n",
      "/Users/renmengyuan/anaconda3/lib/python3.7/site-packages/pandas/core/indexing.py:543: SettingWithCopyWarning: \n",
      "A value is trying to be set on a copy of a slice from a DataFrame.\n",
      "Try using .loc[row_indexer,col_indexer] = value instead\n",
      "\n",
      "See the caveats in the documentation: http://pandas.pydata.org/pandas-docs/stable/indexing.html#indexing-view-versus-copy\n",
      "  self.obj[item] = s\n",
      "/Users/renmengyuan/anaconda3/lib/python3.7/site-packages/pandas/core/indexing.py:362: SettingWithCopyWarning: \n",
      "A value is trying to be set on a copy of a slice from a DataFrame.\n",
      "Try using .loc[row_indexer,col_indexer] = value instead\n",
      "\n",
      "See the caveats in the documentation: http://pandas.pydata.org/pandas-docs/stable/indexing.html#indexing-view-versus-copy\n",
      "  self.obj[key] = _infer_fill_value(value)\n",
      "/Users/renmengyuan/anaconda3/lib/python3.7/site-packages/pandas/core/indexing.py:543: SettingWithCopyWarning: \n",
      "A value is trying to be set on a copy of a slice from a DataFrame.\n",
      "Try using .loc[row_indexer,col_indexer] = value instead\n",
      "\n",
      "See the caveats in the documentation: http://pandas.pydata.org/pandas-docs/stable/indexing.html#indexing-view-versus-copy\n",
      "  self.obj[item] = s\n",
      "/Users/renmengyuan/anaconda3/lib/python3.7/site-packages/ipykernel_launcher.py:81: SettingWithCopyWarning: \n",
      "A value is trying to be set on a copy of a slice from a DataFrame.\n",
      "Try using .loc[row_indexer,col_indexer] = value instead\n",
      "\n",
      "See the caveats in the documentation: http://pandas.pydata.org/pandas-docs/stable/indexing.html#indexing-view-versus-copy\n",
      "/Users/renmengyuan/anaconda3/lib/python3.7/site-packages/ipykernel_launcher.py:82: SettingWithCopyWarning: \n",
      "A value is trying to be set on a copy of a slice from a DataFrame.\n",
      "Try using .loc[row_indexer,col_indexer] = value instead\n",
      "\n",
      "See the caveats in the documentation: http://pandas.pydata.org/pandas-docs/stable/indexing.html#indexing-view-versus-copy\n",
      "/Users/renmengyuan/anaconda3/lib/python3.7/site-packages/ipykernel_launcher.py:83: SettingWithCopyWarning: \n",
      "A value is trying to be set on a copy of a slice from a DataFrame.\n",
      "Try using .loc[row_indexer,col_indexer] = value instead\n",
      "\n",
      "See the caveats in the documentation: http://pandas.pydata.org/pandas-docs/stable/indexing.html#indexing-view-versus-copy\n"
     ]
    }
   ],
   "source": [
    "\n",
    "# Getting number of days need to fill the column\n",
    "from datetime import date\n",
    "d0 = date(2017, 1, 1)\n",
    "d1 = date(2020, 2, 10)\n",
    "delta = d1 - d0\n",
    "\n",
    "# create an array of dates starting at '2017-01-01', one per day. and set day as index\n",
    "rng = pd.date_range('2017-01-01', periods=1135, freq='D')\n",
    "df_calender = pd.DataFrame({ 'Date': rng}) \n",
    "\n",
    "df_calender['Date']=pd.to_datetime(df_calender['Date']).dt.strftime(\"%Y-%m-%d\")\n",
    "\n",
    "df_calender_2 = df_calender[:]\n",
    "\n",
    "\n",
    "# new_subscriber fill\n",
    "\n",
    "df_start_end_sort.reset_index(inplace = True)\n",
    "\n",
    "\n",
    "df_start_end = df_start_end_sort.drop(columns = ['level_0'])\n",
    "\n",
    "\n",
    "i = 0\n",
    "for index, row in df_calender_2.iterrows():\n",
    "    count = 0\n",
    "    while i < df_start_end.shape[0] and df_start_end.at[i,'date_start'] == row['Date']:\n",
    "        count += 1\n",
    "        i += 1\n",
    "    df_calender_2.at[index,'new_cus'] = count\n",
    "\n",
    "\n",
    "\n",
    "df_sort_by_date_end = df_start_end.sort_values(by=['date_leave'])\n",
    "\n",
    "\n",
    "# In[788]:\n",
    "\n",
    "\n",
    "df_sort_by_date_end.reset_index(inplace = True)\n",
    "\n",
    "\n",
    "# In[789]:\n",
    "\n",
    "\n",
    "df_sort_by_date_end['date_leave']=pd.to_datetime(df_sort_by_date_end['date_leave']).dt.strftime(\"%Y-%m-%d\")\n",
    "\n",
    "\n",
    "# In[790]:\n",
    "\n",
    "\n",
    "i = 0\n",
    "for index, row in df_calender_2.iterrows():\n",
    "    count = 0\n",
    "    while i < df_sort_by_date_end.shape[0] and df_sort_by_date_end.at[i,'date_leave'] == row['Date']:\n",
    "        count += 1\n",
    "        i += 1\n",
    "    df_calender_2.at[index,'new_cus_churn'] = count\n",
    "\n",
    "\n",
    "\n",
    "# #### Now calculate the daily existing customer column\n",
    "# The first one or two months existing subscribers base may not be very accurate due to ignorance of active subscribers coming from the end of 2016. This error will gradually disappear after two months or so. Let's first regard the number of unique subscribers during the first month of 2017 as existing subscribers.\n",
    "\n",
    "# In[792]:\n",
    "\n",
    "df_sales_week_initial = df_sales_171819.loc[(df_sales_171819['date'] < '2017-01-08') ]\n",
    "df_sales_month_initial = df_sales_171819.loc[(df_sales_171819['date'] < '2017-02-01')]\n",
    "existing_week_initial = df_sales_week_initial['address_hash'].nunique()\n",
    "existing_month_initial = df_sales_month_initial['address_hash'].nunique()\n",
    "df_existing_week = df_calender_2[:]\n",
    "df_existing_month = df_calender_2[:]\n",
    "df_existing_week.at[0,'existing_customers'] = existing_week_initial\n",
    "df_existing_month.at[0,'existing_customers'] = existing_month_initial\n",
    "for i in range(1,df_existing_week.shape[0]):\n",
    "    df_existing_week.at[i,'existing_customers'] = df_existing_week.at[i-1,'existing_customers']     + df_existing_week.at[i-1,'new_cus'] - df_existing_week.at[i-1,'new_cus_churn']\n",
    "\n",
    "for i in range(1,df_existing_month.shape[0]):\n",
    "    df_existing_month.at[i,'existing_customers'] = df_existing_month.at[i-1,'existing_customers']     + df_existing_month.at[i-1,'new_cus'] - df_existing_month.at[i-1,'new_cus_churn']\n",
    "\n",
    "df_existing_week['Date'] = pd.to_datetime(df_existing_week['Date'], errors='coerce')\n",
    "df_existing_week['Week'] = df_existing_week['Date'].dt.strftime('%Y-%U')\n",
    "df_existing_month['Month'] = pd.to_datetime(df_existing_month['Date']).dt.to_period('M')\n",
    "\n",
    "df_month_exist = df_existing_month.groupby(['Month']).agg({'new_cus_churn':'sum','existing_customers':'mean','new_cus':'sum'})\n",
    "\n",
    "df_month_exist['monthly_churn_rate'] = df_month_exist['new_cus_churn']/df_month_exist['existing_customers'] \n",
    "\n",
    "df_month_exist = df_month_exist.fillna(0)\n",
    "\n",
    "df_week_exist = df_existing_week.groupby(['Week']).agg({'new_cus_churn':'sum','existing_customers':'mean','new_cus':'sum'})\n",
    "\n",
    "df_week_exist['weekly_churn_rate'] = df_week_exist['new_cus_churn']/df_week_exist['existing_customers'] \n",
    "\n",
    "df_week_exist = df_week_exist.fillna(0)\n",
    "\n",
    "dfs = {subcategory_name + \"_monthly_churn_rate\":df_month_exist, subcategory_name + \"_weekly_churn_rate\":df_week_exist} \n",
    "\n",
    "for k, v in dfs.items():\n",
    "    path_name = '../output/subcategory_churn_rate/customers/'\n",
    "    if not os.path.exists(path_name):\n",
    "        os.makedirs(path_name)\n",
    "    v.to_csv(path_name + '{}.csv'.format(k))\n",
    "\n"
   ]
  },
  {
   "cell_type": "code",
   "execution_count": 388,
   "metadata": {},
   "outputs": [],
   "source": [
    "# import pandas as pd\n",
    "# import xlsxwriter\n",
    "# import glob\n",
    "# import os\n",
    "\n",
    "# writer = pd.ExcelWriter('multi_sheet.xlsx', engine='xlsxwriter')\n",
    "# folders = next(os.walk('.'))[1]\n",
    "\n",
    "# for host in folders:\n",
    "#     Path = os.path.join(os.getcwd(), host)\n",
    "\n",
    "#     for f in glob.glob(os.path.join(Path, \"*.csv\")):\n",
    "#         print(f)\n",
    "#         df = pd.read_csv(f)\n",
    "#         df.to_excel(writer, sheet_name=os.path.basename(f)[:31])\n",
    "\n",
    "# writer.save()"
   ]
  }
 ],
 "metadata": {
  "kernelspec": {
   "display_name": "Python 3",
   "language": "python",
   "name": "python3"
  },
  "language_info": {
   "codemirror_mode": {
    "name": "ipython",
    "version": 3
   },
   "file_extension": ".py",
   "mimetype": "text/x-python",
   "name": "python",
   "nbconvert_exporter": "python",
   "pygments_lexer": "ipython3",
   "version": "3.7.3"
  }
 },
 "nbformat": 4,
 "nbformat_minor": 2
}
